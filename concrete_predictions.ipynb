{
 "cells": [
  {
   "cell_type": "code",
   "execution_count": 1,
   "id": "3bf8c646-dc38-4a6c-a1e6-c605a0c415fc",
   "metadata": {
    "tags": []
   },
   "outputs": [],
   "source": [
    "import pandas as pd\n",
    "import numpy as np\n",
    "from sklearn.model_selection import train_test_split\n",
    "from sklearn.neighbors import KNeighborsRegressor"
   ]
  },
  {
   "cell_type": "code",
   "execution_count": 2,
   "id": "d610d9b6-1795-449f-bf8c-68e2fdd79bfd",
   "metadata": {
    "tags": []
   },
   "outputs": [
    {
     "data": {
      "text/html": [
       "<div>\n",
       "<style scoped>\n",
       "    .dataframe tbody tr th:only-of-type {\n",
       "        vertical-align: middle;\n",
       "    }\n",
       "\n",
       "    .dataframe tbody tr th {\n",
       "        vertical-align: top;\n",
       "    }\n",
       "\n",
       "    .dataframe thead th {\n",
       "        text-align: right;\n",
       "    }\n",
       "</style>\n",
       "<table border=\"1\" class=\"dataframe\">\n",
       "  <thead>\n",
       "    <tr style=\"text-align: right;\">\n",
       "      <th></th>\n",
       "      <th>CementComponent</th>\n",
       "      <th>BlastFurnaceSlag</th>\n",
       "      <th>FlyAshComponent</th>\n",
       "      <th>WaterComponent</th>\n",
       "      <th>SuperplasticizerComponent</th>\n",
       "      <th>CoarseAggregateComponent</th>\n",
       "      <th>FineAggregateComponent</th>\n",
       "      <th>AgeInDays</th>\n",
       "      <th>Strength</th>\n",
       "    </tr>\n",
       "  </thead>\n",
       "  <tbody>\n",
       "    <tr>\n",
       "      <th>0</th>\n",
       "      <td>540.0</td>\n",
       "      <td>0.0</td>\n",
       "      <td>0.0</td>\n",
       "      <td>162.0</td>\n",
       "      <td>2.5</td>\n",
       "      <td>1040.0</td>\n",
       "      <td>676.0</td>\n",
       "      <td>28</td>\n",
       "      <td>79.99</td>\n",
       "    </tr>\n",
       "    <tr>\n",
       "      <th>1</th>\n",
       "      <td>540.0</td>\n",
       "      <td>0.0</td>\n",
       "      <td>0.0</td>\n",
       "      <td>162.0</td>\n",
       "      <td>2.5</td>\n",
       "      <td>1055.0</td>\n",
       "      <td>676.0</td>\n",
       "      <td>28</td>\n",
       "      <td>61.89</td>\n",
       "    </tr>\n",
       "    <tr>\n",
       "      <th>2</th>\n",
       "      <td>332.5</td>\n",
       "      <td>142.5</td>\n",
       "      <td>0.0</td>\n",
       "      <td>228.0</td>\n",
       "      <td>0.0</td>\n",
       "      <td>932.0</td>\n",
       "      <td>594.0</td>\n",
       "      <td>270</td>\n",
       "      <td>40.27</td>\n",
       "    </tr>\n",
       "    <tr>\n",
       "      <th>3</th>\n",
       "      <td>332.5</td>\n",
       "      <td>142.5</td>\n",
       "      <td>0.0</td>\n",
       "      <td>228.0</td>\n",
       "      <td>0.0</td>\n",
       "      <td>932.0</td>\n",
       "      <td>594.0</td>\n",
       "      <td>365</td>\n",
       "      <td>41.05</td>\n",
       "    </tr>\n",
       "    <tr>\n",
       "      <th>4</th>\n",
       "      <td>198.6</td>\n",
       "      <td>132.4</td>\n",
       "      <td>0.0</td>\n",
       "      <td>192.0</td>\n",
       "      <td>0.0</td>\n",
       "      <td>978.4</td>\n",
       "      <td>825.5</td>\n",
       "      <td>360</td>\n",
       "      <td>44.30</td>\n",
       "    </tr>\n",
       "    <tr>\n",
       "      <th>...</th>\n",
       "      <td>...</td>\n",
       "      <td>...</td>\n",
       "      <td>...</td>\n",
       "      <td>...</td>\n",
       "      <td>...</td>\n",
       "      <td>...</td>\n",
       "      <td>...</td>\n",
       "      <td>...</td>\n",
       "      <td>...</td>\n",
       "    </tr>\n",
       "    <tr>\n",
       "      <th>1025</th>\n",
       "      <td>276.4</td>\n",
       "      <td>116.0</td>\n",
       "      <td>90.3</td>\n",
       "      <td>179.6</td>\n",
       "      <td>8.9</td>\n",
       "      <td>870.1</td>\n",
       "      <td>768.3</td>\n",
       "      <td>28</td>\n",
       "      <td>44.28</td>\n",
       "    </tr>\n",
       "    <tr>\n",
       "      <th>1026</th>\n",
       "      <td>322.2</td>\n",
       "      <td>0.0</td>\n",
       "      <td>115.6</td>\n",
       "      <td>196.0</td>\n",
       "      <td>10.4</td>\n",
       "      <td>817.9</td>\n",
       "      <td>813.4</td>\n",
       "      <td>28</td>\n",
       "      <td>31.18</td>\n",
       "    </tr>\n",
       "    <tr>\n",
       "      <th>1027</th>\n",
       "      <td>148.5</td>\n",
       "      <td>139.4</td>\n",
       "      <td>108.6</td>\n",
       "      <td>192.7</td>\n",
       "      <td>6.1</td>\n",
       "      <td>892.4</td>\n",
       "      <td>780.0</td>\n",
       "      <td>28</td>\n",
       "      <td>23.70</td>\n",
       "    </tr>\n",
       "    <tr>\n",
       "      <th>1028</th>\n",
       "      <td>159.1</td>\n",
       "      <td>186.7</td>\n",
       "      <td>0.0</td>\n",
       "      <td>175.6</td>\n",
       "      <td>11.3</td>\n",
       "      <td>989.6</td>\n",
       "      <td>788.9</td>\n",
       "      <td>28</td>\n",
       "      <td>32.77</td>\n",
       "    </tr>\n",
       "    <tr>\n",
       "      <th>1029</th>\n",
       "      <td>260.9</td>\n",
       "      <td>100.5</td>\n",
       "      <td>78.3</td>\n",
       "      <td>200.6</td>\n",
       "      <td>8.6</td>\n",
       "      <td>864.5</td>\n",
       "      <td>761.5</td>\n",
       "      <td>28</td>\n",
       "      <td>32.40</td>\n",
       "    </tr>\n",
       "  </tbody>\n",
       "</table>\n",
       "<p>1030 rows × 9 columns</p>\n",
       "</div>"
      ],
      "text/plain": [
       "      CementComponent   BlastFurnaceSlag  FlyAshComponent  WaterComponent  \\\n",
       "0                540.0               0.0              0.0           162.0   \n",
       "1                540.0               0.0              0.0           162.0   \n",
       "2                332.5             142.5              0.0           228.0   \n",
       "3                332.5             142.5              0.0           228.0   \n",
       "4                198.6             132.4              0.0           192.0   \n",
       "...                ...               ...              ...             ...   \n",
       "1025             276.4             116.0             90.3           179.6   \n",
       "1026             322.2               0.0            115.6           196.0   \n",
       "1027             148.5             139.4            108.6           192.7   \n",
       "1028             159.1             186.7              0.0           175.6   \n",
       "1029             260.9             100.5             78.3           200.6   \n",
       "\n",
       "      SuperplasticizerComponent  CoarseAggregateComponent  \\\n",
       "0                           2.5                    1040.0   \n",
       "1                           2.5                    1055.0   \n",
       "2                           0.0                     932.0   \n",
       "3                           0.0                     932.0   \n",
       "4                           0.0                     978.4   \n",
       "...                         ...                       ...   \n",
       "1025                        8.9                     870.1   \n",
       "1026                       10.4                     817.9   \n",
       "1027                        6.1                     892.4   \n",
       "1028                       11.3                     989.6   \n",
       "1029                        8.6                     864.5   \n",
       "\n",
       "      FineAggregateComponent  AgeInDays  Strength  \n",
       "0                      676.0         28     79.99  \n",
       "1                      676.0         28     61.89  \n",
       "2                      594.0        270     40.27  \n",
       "3                      594.0        365     41.05  \n",
       "4                      825.5        360     44.30  \n",
       "...                      ...        ...       ...  \n",
       "1025                   768.3         28     44.28  \n",
       "1026                   813.4         28     31.18  \n",
       "1027                   780.0         28     23.70  \n",
       "1028                   788.9         28     32.77  \n",
       "1029                   761.5         28     32.40  \n",
       "\n",
       "[1030 rows x 9 columns]"
      ]
     },
     "execution_count": 2,
     "metadata": {},
     "output_type": "execute_result"
    }
   ],
   "source": [
    "hormigon = pd.read_csv('ConcreteStrengthData.csv')\n",
    "hormigon"
   ]
  },
  {
   "cell_type": "code",
   "execution_count": 3,
   "id": "b8c70226-24c6-4039-8ac8-c414af31a4ea",
   "metadata": {
    "tags": []
   },
   "outputs": [
    {
     "data": {
      "text/html": [
       "<div>\n",
       "<style scoped>\n",
       "    .dataframe tbody tr th:only-of-type {\n",
       "        vertical-align: middle;\n",
       "    }\n",
       "\n",
       "    .dataframe tbody tr th {\n",
       "        vertical-align: top;\n",
       "    }\n",
       "\n",
       "    .dataframe thead th {\n",
       "        text-align: right;\n",
       "    }\n",
       "</style>\n",
       "<table border=\"1\" class=\"dataframe\">\n",
       "  <thead>\n",
       "    <tr style=\"text-align: right;\">\n",
       "      <th></th>\n",
       "      <th>CementComponent</th>\n",
       "      <th>BlastFurnaceSlag</th>\n",
       "      <th>FlyAshComponent</th>\n",
       "      <th>WaterComponent</th>\n",
       "      <th>SuperplasticizerComponent</th>\n",
       "      <th>CoarseAggregateComponent</th>\n",
       "      <th>FineAggregateComponent</th>\n",
       "      <th>AgeInDays</th>\n",
       "      <th>Strength</th>\n",
       "    </tr>\n",
       "  </thead>\n",
       "  <tbody>\n",
       "    <tr>\n",
       "      <th>count</th>\n",
       "      <td>1030.000000</td>\n",
       "      <td>1030.000000</td>\n",
       "      <td>1030.000000</td>\n",
       "      <td>1030.000000</td>\n",
       "      <td>1030.000000</td>\n",
       "      <td>1030.000000</td>\n",
       "      <td>1030.000000</td>\n",
       "      <td>1030.000000</td>\n",
       "      <td>1030.000000</td>\n",
       "    </tr>\n",
       "    <tr>\n",
       "      <th>mean</th>\n",
       "      <td>281.167864</td>\n",
       "      <td>73.895825</td>\n",
       "      <td>54.188350</td>\n",
       "      <td>181.567282</td>\n",
       "      <td>6.204660</td>\n",
       "      <td>972.918932</td>\n",
       "      <td>773.580485</td>\n",
       "      <td>45.662136</td>\n",
       "      <td>35.817961</td>\n",
       "    </tr>\n",
       "    <tr>\n",
       "      <th>std</th>\n",
       "      <td>104.506364</td>\n",
       "      <td>86.279342</td>\n",
       "      <td>63.997004</td>\n",
       "      <td>21.354219</td>\n",
       "      <td>5.973841</td>\n",
       "      <td>77.753954</td>\n",
       "      <td>80.175980</td>\n",
       "      <td>63.169912</td>\n",
       "      <td>16.705742</td>\n",
       "    </tr>\n",
       "    <tr>\n",
       "      <th>min</th>\n",
       "      <td>102.000000</td>\n",
       "      <td>0.000000</td>\n",
       "      <td>0.000000</td>\n",
       "      <td>121.800000</td>\n",
       "      <td>0.000000</td>\n",
       "      <td>801.000000</td>\n",
       "      <td>594.000000</td>\n",
       "      <td>1.000000</td>\n",
       "      <td>2.330000</td>\n",
       "    </tr>\n",
       "    <tr>\n",
       "      <th>25%</th>\n",
       "      <td>192.375000</td>\n",
       "      <td>0.000000</td>\n",
       "      <td>0.000000</td>\n",
       "      <td>164.900000</td>\n",
       "      <td>0.000000</td>\n",
       "      <td>932.000000</td>\n",
       "      <td>730.950000</td>\n",
       "      <td>7.000000</td>\n",
       "      <td>23.710000</td>\n",
       "    </tr>\n",
       "    <tr>\n",
       "      <th>50%</th>\n",
       "      <td>272.900000</td>\n",
       "      <td>22.000000</td>\n",
       "      <td>0.000000</td>\n",
       "      <td>185.000000</td>\n",
       "      <td>6.400000</td>\n",
       "      <td>968.000000</td>\n",
       "      <td>779.500000</td>\n",
       "      <td>28.000000</td>\n",
       "      <td>34.445000</td>\n",
       "    </tr>\n",
       "    <tr>\n",
       "      <th>75%</th>\n",
       "      <td>350.000000</td>\n",
       "      <td>142.950000</td>\n",
       "      <td>118.300000</td>\n",
       "      <td>192.000000</td>\n",
       "      <td>10.200000</td>\n",
       "      <td>1029.400000</td>\n",
       "      <td>824.000000</td>\n",
       "      <td>56.000000</td>\n",
       "      <td>46.135000</td>\n",
       "    </tr>\n",
       "    <tr>\n",
       "      <th>max</th>\n",
       "      <td>540.000000</td>\n",
       "      <td>359.400000</td>\n",
       "      <td>200.100000</td>\n",
       "      <td>247.000000</td>\n",
       "      <td>32.200000</td>\n",
       "      <td>1145.000000</td>\n",
       "      <td>992.600000</td>\n",
       "      <td>365.000000</td>\n",
       "      <td>82.600000</td>\n",
       "    </tr>\n",
       "  </tbody>\n",
       "</table>\n",
       "</div>"
      ],
      "text/plain": [
       "       CementComponent   BlastFurnaceSlag  FlyAshComponent  WaterComponent  \\\n",
       "count       1030.000000       1030.000000      1030.000000     1030.000000   \n",
       "mean         281.167864         73.895825        54.188350      181.567282   \n",
       "std          104.506364         86.279342        63.997004       21.354219   \n",
       "min          102.000000          0.000000         0.000000      121.800000   \n",
       "25%          192.375000          0.000000         0.000000      164.900000   \n",
       "50%          272.900000         22.000000         0.000000      185.000000   \n",
       "75%          350.000000        142.950000       118.300000      192.000000   \n",
       "max          540.000000        359.400000       200.100000      247.000000   \n",
       "\n",
       "       SuperplasticizerComponent  CoarseAggregateComponent  \\\n",
       "count                1030.000000               1030.000000   \n",
       "mean                    6.204660                972.918932   \n",
       "std                     5.973841                 77.753954   \n",
       "min                     0.000000                801.000000   \n",
       "25%                     0.000000                932.000000   \n",
       "50%                     6.400000                968.000000   \n",
       "75%                    10.200000               1029.400000   \n",
       "max                    32.200000               1145.000000   \n",
       "\n",
       "       FineAggregateComponent    AgeInDays     Strength  \n",
       "count             1030.000000  1030.000000  1030.000000  \n",
       "mean               773.580485    45.662136    35.817961  \n",
       "std                 80.175980    63.169912    16.705742  \n",
       "min                594.000000     1.000000     2.330000  \n",
       "25%                730.950000     7.000000    23.710000  \n",
       "50%                779.500000    28.000000    34.445000  \n",
       "75%                824.000000    56.000000    46.135000  \n",
       "max                992.600000   365.000000    82.600000  "
      ]
     },
     "execution_count": 3,
     "metadata": {},
     "output_type": "execute_result"
    }
   ],
   "source": [
    "hormigon.describe()"
   ]
  },
  {
   "cell_type": "code",
   "execution_count": 4,
   "id": "e506cc9d-0ee0-48d6-bd17-b35a9e4bafdb",
   "metadata": {
    "tags": []
   },
   "outputs": [
    {
     "name": "stdout",
     "output_type": "stream",
     "text": [
      "<class 'pandas.core.frame.DataFrame'>\n",
      "RangeIndex: 1030 entries, 0 to 1029\n",
      "Data columns (total 9 columns):\n",
      " #   Column                     Non-Null Count  Dtype  \n",
      "---  ------                     --------------  -----  \n",
      " 0   CementComponent            1030 non-null   float64\n",
      " 1   BlastFurnaceSlag           1030 non-null   float64\n",
      " 2   FlyAshComponent            1030 non-null   float64\n",
      " 3   WaterComponent             1030 non-null   float64\n",
      " 4   SuperplasticizerComponent  1030 non-null   float64\n",
      " 5   CoarseAggregateComponent   1030 non-null   float64\n",
      " 6   FineAggregateComponent     1030 non-null   float64\n",
      " 7   AgeInDays                  1030 non-null   int64  \n",
      " 8   Strength                   1030 non-null   float64\n",
      "dtypes: float64(8), int64(1)\n",
      "memory usage: 72.6 KB\n"
     ]
    }
   ],
   "source": [
    "hormigon.info()"
   ]
  },
  {
   "cell_type": "markdown",
   "id": "f5bbac5a-54a3-4e68-9850-deba32c17616",
   "metadata": {},
   "source": [
    "Con esto descarto que haya valores nulos, y ademas verifico que todos los valores son del tipo numero. "
   ]
  },
  {
   "cell_type": "markdown",
   "id": "c5edfb4e-9d11-4cc9-bbfd-c609326a4759",
   "metadata": {},
   "source": [
    "KNN\n",
    "---\n",
    "\n",
    "En este caso, como se trata de un problema de regresion (los target no son etiquetas, sino valores numericos), voy a trabajar con k-neigthbors regressor. "
   ]
  },
  {
   "cell_type": "code",
   "execution_count": 5,
   "id": "ef1c253d-3bc0-47b3-8c3d-af57a4f718d5",
   "metadata": {
    "tags": []
   },
   "outputs": [
    {
     "data": {
      "text/plain": [
       "Index(['CementComponent ', 'BlastFurnaceSlag', 'FlyAshComponent',\n",
       "       'WaterComponent', 'SuperplasticizerComponent',\n",
       "       'CoarseAggregateComponent', 'FineAggregateComponent', 'AgeInDays',\n",
       "       'Strength'],\n",
       "      dtype='object')"
      ]
     },
     "execution_count": 5,
     "metadata": {},
     "output_type": "execute_result"
    }
   ],
   "source": [
    "hormigon.keys()"
   ]
  },
  {
   "cell_type": "code",
   "execution_count": 6,
   "id": "85dc3021-4ab1-4f78-826f-b4d800272835",
   "metadata": {
    "tags": []
   },
   "outputs": [],
   "source": [
    "# definio cuales son los features y los separo del target (Strength)\n",
    "\n",
    "X = np.array(hormigon[['CementComponent ', 'BlastFurnaceSlag', 'FlyAshComponent',\n",
    "       'WaterComponent', 'SuperplasticizerComponent',\n",
    "       'CoarseAggregateComponent', 'FineAggregateComponent', 'AgeInDays']])\n",
    "\n",
    "y = np.array(hormigon[['Strength']])"
   ]
  },
  {
   "cell_type": "code",
   "execution_count": 7,
   "id": "dbbcc074-96f4-42c2-b837-838027202ca8",
   "metadata": {
    "tags": []
   },
   "outputs": [],
   "source": [
    "# preparo el dataset para entrenamiento y para testeo\n",
    "\n",
    "X_train, X_test, y_train, y_test = train_test_split(X, y, test_size=0.2, random_state=1234, shuffle=True)\n",
    "# pongo shuffle=True para que se barajen los datos (mezclar las muestras)\n",
    "\n"
   ]
  },
  {
   "cell_type": "code",
   "execution_count": 8,
   "id": "57841f76-9f91-4cb8-accb-0ce9c016180a",
   "metadata": {
    "tags": []
   },
   "outputs": [
    {
     "name": "stdout",
     "output_type": "stream",
     "text": [
      "824 824\n"
     ]
    }
   ],
   "source": [
    "print(len(X_train), len(y_train))"
   ]
  },
  {
   "cell_type": "code",
   "execution_count": 9,
   "id": "85f26e8e-8ec6-4221-82e7-a3c422d3ec21",
   "metadata": {
    "tags": []
   },
   "outputs": [
    {
     "name": "stdout",
     "output_type": "stream",
     "text": [
      "206 206\n"
     ]
    }
   ],
   "source": [
    "print(len(X_test), len(y_test))"
   ]
  },
  {
   "cell_type": "code",
   "execution_count": 10,
   "id": "cca6929e-1946-467c-b850-cc61172f25a2",
   "metadata": {
    "tags": []
   },
   "outputs": [
    {
     "data": {
      "text/html": [
       "<style>#sk-container-id-1 {color: black;}#sk-container-id-1 pre{padding: 0;}#sk-container-id-1 div.sk-toggleable {background-color: white;}#sk-container-id-1 label.sk-toggleable__label {cursor: pointer;display: block;width: 100%;margin-bottom: 0;padding: 0.3em;box-sizing: border-box;text-align: center;}#sk-container-id-1 label.sk-toggleable__label-arrow:before {content: \"▸\";float: left;margin-right: 0.25em;color: #696969;}#sk-container-id-1 label.sk-toggleable__label-arrow:hover:before {color: black;}#sk-container-id-1 div.sk-estimator:hover label.sk-toggleable__label-arrow:before {color: black;}#sk-container-id-1 div.sk-toggleable__content {max-height: 0;max-width: 0;overflow: hidden;text-align: left;background-color: #f0f8ff;}#sk-container-id-1 div.sk-toggleable__content pre {margin: 0.2em;color: black;border-radius: 0.25em;background-color: #f0f8ff;}#sk-container-id-1 input.sk-toggleable__control:checked~div.sk-toggleable__content {max-height: 200px;max-width: 100%;overflow: auto;}#sk-container-id-1 input.sk-toggleable__control:checked~label.sk-toggleable__label-arrow:before {content: \"▾\";}#sk-container-id-1 div.sk-estimator input.sk-toggleable__control:checked~label.sk-toggleable__label {background-color: #d4ebff;}#sk-container-id-1 div.sk-label input.sk-toggleable__control:checked~label.sk-toggleable__label {background-color: #d4ebff;}#sk-container-id-1 input.sk-hidden--visually {border: 0;clip: rect(1px 1px 1px 1px);clip: rect(1px, 1px, 1px, 1px);height: 1px;margin: -1px;overflow: hidden;padding: 0;position: absolute;width: 1px;}#sk-container-id-1 div.sk-estimator {font-family: monospace;background-color: #f0f8ff;border: 1px dotted black;border-radius: 0.25em;box-sizing: border-box;margin-bottom: 0.5em;}#sk-container-id-1 div.sk-estimator:hover {background-color: #d4ebff;}#sk-container-id-1 div.sk-parallel-item::after {content: \"\";width: 100%;border-bottom: 1px solid gray;flex-grow: 1;}#sk-container-id-1 div.sk-label:hover label.sk-toggleable__label {background-color: #d4ebff;}#sk-container-id-1 div.sk-serial::before {content: \"\";position: absolute;border-left: 1px solid gray;box-sizing: border-box;top: 0;bottom: 0;left: 50%;z-index: 0;}#sk-container-id-1 div.sk-serial {display: flex;flex-direction: column;align-items: center;background-color: white;padding-right: 0.2em;padding-left: 0.2em;position: relative;}#sk-container-id-1 div.sk-item {position: relative;z-index: 1;}#sk-container-id-1 div.sk-parallel {display: flex;align-items: stretch;justify-content: center;background-color: white;position: relative;}#sk-container-id-1 div.sk-item::before, #sk-container-id-1 div.sk-parallel-item::before {content: \"\";position: absolute;border-left: 1px solid gray;box-sizing: border-box;top: 0;bottom: 0;left: 50%;z-index: -1;}#sk-container-id-1 div.sk-parallel-item {display: flex;flex-direction: column;z-index: 1;position: relative;background-color: white;}#sk-container-id-1 div.sk-parallel-item:first-child::after {align-self: flex-end;width: 50%;}#sk-container-id-1 div.sk-parallel-item:last-child::after {align-self: flex-start;width: 50%;}#sk-container-id-1 div.sk-parallel-item:only-child::after {width: 0;}#sk-container-id-1 div.sk-dashed-wrapped {border: 1px dashed gray;margin: 0 0.4em 0.5em 0.4em;box-sizing: border-box;padding-bottom: 0.4em;background-color: white;}#sk-container-id-1 div.sk-label label {font-family: monospace;font-weight: bold;display: inline-block;line-height: 1.2em;}#sk-container-id-1 div.sk-label-container {text-align: center;}#sk-container-id-1 div.sk-container {/* jupyter's `normalize.less` sets `[hidden] { display: none; }` but bootstrap.min.css set `[hidden] { display: none !important; }` so we also need the `!important` here to be able to override the default hidden behavior on the sphinx rendered scikit-learn.org. See: https://github.com/scikit-learn/scikit-learn/issues/21755 */display: inline-block !important;position: relative;}#sk-container-id-1 div.sk-text-repr-fallback {display: none;}</style><div id=\"sk-container-id-1\" class=\"sk-top-container\"><div class=\"sk-text-repr-fallback\"><pre>KNeighborsRegressor()</pre><b>In a Jupyter environment, please rerun this cell to show the HTML representation or trust the notebook. <br />On GitHub, the HTML representation is unable to render, please try loading this page with nbviewer.org.</b></div><div class=\"sk-container\" hidden><div class=\"sk-item\"><div class=\"sk-estimator sk-toggleable\"><input class=\"sk-toggleable__control sk-hidden--visually\" id=\"sk-estimator-id-1\" type=\"checkbox\" checked><label for=\"sk-estimator-id-1\" class=\"sk-toggleable__label sk-toggleable__label-arrow\">KNeighborsRegressor</label><div class=\"sk-toggleable__content\"><pre>KNeighborsRegressor()</pre></div></div></div></div></div>"
      ],
      "text/plain": [
       "KNeighborsRegressor()"
      ]
     },
     "execution_count": 10,
     "metadata": {},
     "output_type": "execute_result"
    }
   ],
   "source": [
    "knn = KNeighborsRegressor(5)\n",
    "knn.fit(X_train, y_train)"
   ]
  },
  {
   "cell_type": "code",
   "execution_count": 11,
   "id": "b418d78c-248f-4609-b4ce-cf26cdba94fb",
   "metadata": {
    "tags": []
   },
   "outputs": [
    {
     "data": {
      "text/plain": [
       "0.6857750633934651"
      ]
     },
     "execution_count": 11,
     "metadata": {},
     "output_type": "execute_result"
    }
   ],
   "source": [
    "preds = knn.predict(X_test)\n",
    "knn.score(X_test, y_test)"
   ]
  },
  {
   "cell_type": "code",
   "execution_count": 12,
   "id": "974e0acf-f642-4200-9b68-335d7ac04057",
   "metadata": {
    "tags": []
   },
   "outputs": [
    {
     "name": "stdout",
     "output_type": "stream",
     "text": [
      "Score con \"k\" = 3 >>> 0.705\n",
      "Score con \"k\" = 4 >>> 0.715\n",
      "Score con \"k\" = 5 >>> 0.686\n",
      "Score con \"k\" = 6 >>> 0.664\n",
      "Score con \"k\" = 7 >>> 0.669\n",
      "Score con \"k\" = 8 >>> 0.66\n",
      "Score con \"k\" = 9 >>> 0.649\n"
     ]
    }
   ],
   "source": [
    "for k in range(3,10):\n",
    "    knn = KNeighborsRegressor(k)\n",
    "    knn.fit(X_train, y_train)\n",
    "    print(f'Score con \"k\" = {k} >>>', round(knn.score(X_test, y_test),3))"
   ]
  },
  {
   "cell_type": "markdown",
   "id": "f25c60d1-c826-4a62-b24f-a859e3f80fcb",
   "metadata": {},
   "source": [
    "Hay un maximo con **k = 4**. "
   ]
  },
  {
   "cell_type": "markdown",
   "id": "94e18d3b-07fa-4a0f-9bd5-e0b3ca3f7ce6",
   "metadata": {},
   "source": [
    "Linear Regression\n",
    "---"
   ]
  },
  {
   "cell_type": "markdown",
   "id": "99c8d92a-515c-4609-83e5-159a2b790f6e",
   "metadata": {},
   "source": [
    ">Voy a representar un grafico 2D entre la la cantidad de cemento y la resistencia final"
   ]
  },
  {
   "cell_type": "code",
   "execution_count": 13,
   "id": "0d40d267-3e85-4626-9472-680452fd8166",
   "metadata": {
    "tags": []
   },
   "outputs": [
    {
     "data": {
      "text/plain": [
       "<Axes: xlabel='CementComponent ', ylabel='Strength'>"
      ]
     },
     "execution_count": 13,
     "metadata": {},
     "output_type": "execute_result"
    },
    {
     "data": {
      "image/png": "[encoded data removed]",
      "text/plain": [
       "<Figure size 640x480 with 1 Axes>"
      ]
     },
     "metadata": {},
     "output_type": "display_data"
    }
   ],
   "source": [
    "hormigon.plot.scatter(x='CementComponent ', y='Strength')"
   ]
  },
  {
   "cell_type": "markdown",
   "id": "54401eab-3c8e-48f2-9597-8540b5ad898c",
   "metadata": {},
   "source": [
    "No parece haber una relacion lineal entre la cantidad de cemento y la resistencia..."
   ]
  },
  {
   "cell_type": "code",
   "execution_count": 14,
   "id": "24bada21-3d47-4037-b6a9-6619db42671b",
   "metadata": {
    "tags": []
   },
   "outputs": [
    {
     "data": {
      "text/plain": [
       "0.584"
      ]
     },
     "execution_count": 14,
     "metadata": {},
     "output_type": "execute_result"
    }
   ],
   "source": [
    "from sklearn import linear_model\n",
    "\n",
    "# creo un objeto de regresion lineal\n",
    "lg = linear_model.LinearRegression()\n",
    "\n",
    "# ajusto la regresion a los datos de entrenamiento\n",
    "lg.fit(X_train, y_train)\n",
    "\n",
    "# prediccion y testeo de los datos de testeo\n",
    "round(lg.score(X_test, y_test),3)"
   ]
  },
  {
   "cell_type": "markdown",
   "id": "a47e970d-233b-467e-93f6-88913b6dc579",
   "metadata": {},
   "source": [
    "Obtuve un mejore score con **KNN** que con regrresion lineal. "
   ]
  },
  {
   "cell_type": "markdown",
   "id": "17b774bd-8be1-4dfe-9bf9-6be8c7917852",
   "metadata": {},
   "source": [
    "DecisionTreeRegressor\n",
    "---"
   ]
  },
  {
   "cell_type": "code",
   "execution_count": 15,
   "id": "93f3e53c-78d7-44c6-b0d3-230cb8930493",
   "metadata": {
    "tags": []
   },
   "outputs": [
    {
     "data": {
      "text/plain": [
       "0.83"
      ]
     },
     "execution_count": 15,
     "metadata": {},
     "output_type": "execute_result"
    }
   ],
   "source": [
    "from sklearn import tree\n",
    "\n",
    "# creo un objeto para el modelado\n",
    "clf = tree.DecisionTreeRegressor()\n",
    "\n",
    "# ajusto el arbol a los datos de entrenamiento\n",
    "clf.fit(X_train, y_train)\n",
    "\n",
    "# prediccion y testeo de los datos de testeo\n",
    "round(clf.score(X_test, y_test),3)\n"
   ]
  },
  {
   "cell_type": "markdown",
   "id": "abb7ce7e-e89f-46ef-81e1-6263dbdf391a",
   "metadata": {},
   "source": [
    "Hasta ahora el mejor score lo obtuve con DecisionTreeRegressor"
   ]
  },
  {
   "cell_type": "markdown",
   "id": "f92ef568-4ea3-4205-84f6-b52eb4274e6e",
   "metadata": {},
   "source": [
    "SVM\n",
    "---"
   ]
  },
  {
   "cell_type": "code",
   "execution_count": 16,
   "id": "a9adf6bf-55de-4938-aea0-f599ebee4a19",
   "metadata": {
    "tags": []
   },
   "outputs": [
    {
     "data": {
      "text/plain": [
       "numpy.ndarray"
      ]
     },
     "execution_count": 16,
     "metadata": {},
     "output_type": "execute_result"
    }
   ],
   "source": [
    "type(y_test)"
   ]
  },
  {
   "cell_type": "code",
   "execution_count": 17,
   "id": "f5d0aca2-48eb-440f-ba14-a3d62c0f0ec7",
   "metadata": {
    "tags": []
   },
   "outputs": [
    {
     "name": "stdout",
     "output_type": "stream",
     "text": [
      "0.402\n",
      "-13.851\n"
     ]
    },
    {
     "data": {
      "text/plain": [
       "\"\\nEste modelo insume muchos recursos de maquina... no se si el resultado es bueno.\\nsvr_poly.fit(X_train, np.ravel(y_train, order='C'))\\nprint(round(svr_poly.score(X_test, np.ravel(y_test, order='C')),3))\\n\""
      ]
     },
     "execution_count": 17,
     "metadata": {},
     "output_type": "execute_result"
    }
   ],
   "source": [
    "from sklearn import svm\n",
    "\n",
    "# creo el objeto de clase svm, con 3 kernels distintos\n",
    "svr_rbf = svm.SVR(kernel=\"rbf\", C=100, gamma=0.1, epsilon=0.1)\n",
    "svr_lin = svm.SVR(kernel=\"linear\", C=100, gamma=\"auto\")\n",
    "svr_poly = svm.SVR(kernel=\"poly\", C=100, gamma=\"auto\", degree=3, epsilon=0.1, coef0=1)\n",
    "\n",
    "svr_rbf.fit(X_train, np.ravel(y_train, order='C'))\n",
    "print(round(svr_rbf.score(X_test, np.ravel(y_test, order='C')),3))\n",
    "\n",
    "svr_lin.fit(X_train, np.ravel(y_train, order='C'))\n",
    "print(round(svr_lin.score(X_test, np.ravel(y_test, order='C')),3))\n",
    "\n",
    "\"\"\"\n",
    "Este modelo insume muchos recursos de maquina... no se si el resultado es bueno.\n",
    "svr_poly.fit(X_train, np.ravel(y_train, order='C'))\n",
    "print(round(svr_poly.score(X_test, np.ravel(y_test, order='C')),3))\n",
    "\"\"\""
   ]
  },
  {
   "cell_type": "code",
   "execution_count": null,
   "id": "99b7c4a3-ee3c-48d6-9a26-5ee5da51528e",
   "metadata": {},
   "outputs": [],
   "source": []
  }
 ],
 "metadata": {
  "kernelspec": {
   "display_name": "Python 3 (ipykernel)",
   "language": "python",
   "name": "python3"
  },
  "language_info": {
   "codemirror_mode": {
    "name": "ipython",
    "version": 3
   },
   "file_extension": ".py",
   "mimetype": "text/x-python",
   "name": "python",
   "nbconvert_exporter": "python",
   "pygments_lexer": "ipython3",
   "version": "3.11.4"
  }
 },
 "nbformat": 4,
 "nbformat_minor": 5
}
